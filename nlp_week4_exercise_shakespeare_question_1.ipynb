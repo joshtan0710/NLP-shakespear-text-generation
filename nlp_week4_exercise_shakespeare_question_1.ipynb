{
  "nbformat": 4,
  "nbformat_minor": 0,
  "metadata": {
    "accelerator": "GPU",
    "colab": {
      "name": "nlp_week4_exercise_shakespeare_question_1.ipynb",
      "provenance": [],
      "collapsed_sections": []
    },
    "kernelspec": {
      "display_name": "Python 3",
      "name": "python3"
    }
  },
  "cells": [
    {
      "cell_type": "markdown",
      "metadata": {
        "id": "P9n3M_d27fnQ"
      },
      "source": [
        "## Problem Statement\r\n",
        "Given a dataset containing Shakespear sonets, build a model to generate the next 30 words after a starter sentence."
      ]
    },
    {
      "cell_type": "markdown",
      "metadata": {
        "id": "L1V53Ryq7ZBL"
      },
      "source": [
        "## Import Libraries"
      ]
    },
    {
      "cell_type": "code",
      "metadata": {
        "id": "8fORgPkTKnin"
      },
      "source": [
        "from tensorflow.keras.preprocessing.sequence import pad_sequences\r\n",
        "from tensorflow.keras.preprocessing.text import Tokenizer\r\n",
        "from tensorflow.keras.layers import Embedding, Bidirectional, Dense, LSTM, Dropout\r\n",
        "from tensorflow.keras.models import Sequential \r\n",
        "from tensorflow.keras.optimizers import Adam \r\n",
        "from tensorflow.keras import regularizers \r\n",
        "from tensorflow.keras import callbacks\r\n",
        "\r\n",
        "import os\r\n",
        "import numpy as np \r\n",
        "import tensorflow.keras.utils as ku\r\n"
      ],
      "execution_count": 5,
      "outputs": []
    },
    {
      "cell_type": "markdown",
      "metadata": {
        "id": "Tc7t8vLj8NbY"
      },
      "source": [
        "## Getting Dataset"
      ]
    },
    {
      "cell_type": "code",
      "metadata": {
        "colab": {
          "base_uri": "https://localhost:8080/"
        },
        "id": "UvglPjY-KrtM",
        "outputId": "872aa742-b6ce-4755-efef-60897d243c3f"
      },
      "source": [
        "!wget --no-check-certificate \\\r\n",
        "    https://storage.googleapis.com/laurencemoroney-blog.appspot.com/sonnets.txt \\\r\n",
        "    -O /tmp/sonnets.txt\r\n",
        "data = open('/tmp/sonnets.txt').read()"
      ],
      "execution_count": 1,
      "outputs": [
        {
          "output_type": "stream",
          "text": [
            "--2021-01-15 16:43:40--  https://storage.googleapis.com/laurencemoroney-blog.appspot.com/sonnets.txt\n",
            "Resolving storage.googleapis.com (storage.googleapis.com)... 64.233.189.128, 108.177.97.128, 108.177.125.128, ...\n",
            "Connecting to storage.googleapis.com (storage.googleapis.com)|64.233.189.128|:443... connected.\n",
            "HTTP request sent, awaiting response... 200 OK\n",
            "Length: 93578 (91K) [text/plain]\n",
            "Saving to: ‘/tmp/sonnets.txt’\n",
            "\n",
            "/tmp/sonnets.txt    100%[===================>]  91.38K  --.-KB/s    in 0.001s  \n",
            "\n",
            "2021-01-15 16:43:40 (74.6 MB/s) - ‘/tmp/sonnets.txt’ saved [93578/93578]\n",
            "\n"
          ],
          "name": "stdout"
        }
      ]
    },
    {
      "cell_type": "markdown",
      "metadata": {
        "id": "i7gnfpAN72Pg"
      },
      "source": [
        "## Unpacking dataset"
      ]
    },
    {
      "cell_type": "code",
      "metadata": {
        "colab": {
          "base_uri": "https://localhost:8080/"
        },
        "id": "xuk8mb9UKtMX",
        "outputId": "a4ce8a53-cdec-42f8-9f01-0fee189638c4"
      },
      "source": [
        "print(data[:250].lower())"
      ],
      "execution_count": null,
      "outputs": [
        {
          "output_type": "stream",
          "text": [
            "from fairest creatures we desire increase,\n",
            "that thereby beauty's rose might never die,\n",
            "but as the riper should by time decease,\n",
            "his tender heir might bear his memory:\n",
            "but thou, contracted to thine own bright eyes,\n",
            "feed'st thy light'st flame with self\n"
          ],
          "name": "stdout"
        }
      ]
    },
    {
      "cell_type": "markdown",
      "metadata": {
        "id": "vmjjkiPx8Syt"
      },
      "source": [
        "## Initialise tokenizer "
      ]
    },
    {
      "cell_type": "code",
      "metadata": {
        "id": "rwwQOj6_LK05",
        "colab": {
          "base_uri": "https://localhost:8080/"
        },
        "outputId": "44280e39-c9c6-47d4-80b9-c3fc80706298"
      },
      "source": [
        "tokenizer = Tokenizer()\r\n",
        "corpus = data.lower().split(\"\\n\")  #split data into seperate sentences \r\n",
        "print(corpus[:3])"
      ],
      "execution_count": 8,
      "outputs": [
        {
          "output_type": "stream",
          "text": [
            "['from fairest creatures we desire increase,', \"that thereby beauty's rose might never die,\", 'but as the riper should by time decease,']\n"
          ],
          "name": "stdout"
        }
      ]
    },
    {
      "cell_type": "code",
      "metadata": {
        "id": "WdfTmQ8QL0JD"
      },
      "source": [
        "tokenizer.fit_on_texts(corpus)  # using tokenizer to fit texts\r\n",
        "vocab = tokenizer.word_index\r\n"
      ],
      "execution_count": 9,
      "outputs": []
    },
    {
      "cell_type": "markdown",
      "metadata": {
        "id": "P0tPb6H59Hgf"
      },
      "source": [
        "## Exploring vocabulary built by tokenizer"
      ]
    },
    {
      "cell_type": "code",
      "metadata": {
        "colab": {
          "base_uri": "https://localhost:8080/"
        },
        "id": "Gf2g1uSNMAxJ",
        "outputId": "60d9cc7c-2b9a-4adc-b0ef-3a3ba5f03822"
      },
      "source": [
        "for word, value in zip(vocab, range(10)): \r\n",
        "  print(value,':', word)"
      ],
      "execution_count": 13,
      "outputs": [
        {
          "output_type": "stream",
          "text": [
            "0 : and\n",
            "1 : the\n",
            "2 : to\n",
            "3 : of\n",
            "4 : my\n",
            "5 : i\n",
            "6 : in\n",
            "7 : that\n",
            "8 : thy\n",
            "9 : thou\n"
          ],
          "name": "stdout"
        }
      ]
    },
    {
      "cell_type": "code",
      "metadata": {
        "id": "3SzEIaI1MCeu"
      },
      "source": [
        "total_words = len(vocab)+1\r\n",
        "input_sequences = []\r\n",
        "for line in corpus: \r\n",
        "  token_list = tokenizer.texts_to_sequences([line])[0]  #give a list to texts_to_sequences to return an array\r\n",
        "  for i in range(len(token_list)): #generate data by appending new generated lists that were created by incrementing an additional word sequentially from a min of 2 words \r\n",
        "    lst = token_list[:i+2]\r\n",
        "    input_sequences.append(lst)"
      ],
      "execution_count": 23,
      "outputs": []
    },
    {
      "cell_type": "markdown",
      "metadata": {
        "id": "3lLcffhuPODR"
      },
      "source": [
        "## Padding Sequences"
      ]
    },
    {
      "cell_type": "code",
      "metadata": {
        "colab": {
          "base_uri": "https://localhost:8080/"
        },
        "id": "cyh64oW-PL7F",
        "outputId": "81e160c7-0cce-4a1b-c995-16c41e63bf25"
      },
      "source": [
        "max_sequence_len = max([len(i) for i in input_sequences])  # checking longest sequence in corpus\r\n",
        "print(max_sequence_len)"
      ],
      "execution_count": 30,
      "outputs": [
        {
          "output_type": "stream",
          "text": [
            "11\n"
          ],
          "name": "stdout"
        }
      ]
    },
    {
      "cell_type": "code",
      "metadata": {
        "colab": {
          "base_uri": "https://localhost:8080/"
        },
        "id": "yLqbghTAPaDm",
        "outputId": "b205eae8-c8e9-4c05-b2e5-c586c287be7a"
      },
      "source": [
        "input_sequences = pad_sequences(input_sequences, maxlen= max_sequence_len, padding='pre')\r\n",
        "print(input_sequences[:10])"
      ],
      "execution_count": 31,
      "outputs": [
        {
          "output_type": "stream",
          "text": [
            "[[  0   0   0   0   0   0   0   0   0  34 417]\n",
            " [  0   0   0   0   0   0   0   0  34 417 877]\n",
            " [  0   0   0   0   0   0   0  34 417 877 166]\n",
            " [  0   0   0   0   0   0  34 417 877 166 213]\n",
            " [  0   0   0   0   0  34 417 877 166 213 517]\n",
            " [  0   0   0   0   0  34 417 877 166 213 517]\n",
            " [  0   0   0   0   0   0   0   0   0   8 878]\n",
            " [  0   0   0   0   0   0   0   0   8 878 134]\n",
            " [  0   0   0   0   0   0   0   8 878 134 351]\n",
            " [  0   0   0   0   0   0   8 878 134 351 102]]\n"
          ],
          "name": "stdout"
        }
      ]
    },
    {
      "cell_type": "markdown",
      "metadata": {
        "id": "vt-Q1NWQQIB5"
      },
      "source": [
        "## Creating predictors & labels"
      ]
    },
    {
      "cell_type": "code",
      "metadata": {
        "colab": {
          "base_uri": "https://localhost:8080/"
        },
        "id": "-Y9_F-0mP7v1",
        "outputId": "c01d685e-99a3-48a0-cd54-02e0a30e273c"
      },
      "source": [
        "predictors = input_sequences[:, : -1 ] #taking each list without the last index's value as the predictor\r\n",
        "labels = input_sequences[:,-1]  #  along with last index's value as the label \r\n",
        "print(predictors[:10])\r\n",
        "print(labels[:10])"
      ],
      "execution_count": 32,
      "outputs": [
        {
          "output_type": "stream",
          "text": [
            "[[  0   0   0   0   0   0   0   0   0  34]\n",
            " [  0   0   0   0   0   0   0   0  34 417]\n",
            " [  0   0   0   0   0   0   0  34 417 877]\n",
            " [  0   0   0   0   0   0  34 417 877 166]\n",
            " [  0   0   0   0   0  34 417 877 166 213]\n",
            " [  0   0   0   0   0  34 417 877 166 213]\n",
            " [  0   0   0   0   0   0   0   0   0   8]\n",
            " [  0   0   0   0   0   0   0   0   8 878]\n",
            " [  0   0   0   0   0   0   0   8 878 134]\n",
            " [  0   0   0   0   0   0   8 878 134 351]]\n",
            "[417 877 166 213 517 517 878 134 351 102]\n"
          ],
          "name": "stdout"
        }
      ]
    },
    {
      "cell_type": "markdown",
      "metadata": {
        "id": "sCzRSawK_HH7"
      },
      "source": [
        "## One Hot encoding for labels"
      ]
    },
    {
      "cell_type": "code",
      "metadata": {
        "id": "HDXtgrv-Trqg"
      },
      "source": [
        "labels = ku.to_categorical(labels, num_classes = total_words)"
      ],
      "execution_count": 33,
      "outputs": []
    },
    {
      "cell_type": "code",
      "metadata": {
        "colab": {
          "base_uri": "https://localhost:8080/"
        },
        "id": "V3Jf_SyAWFzB",
        "outputId": "c21a3871-1b36-48fb-e2ff-a902a25b7b2a"
      },
      "source": [
        "labels[0].shape"
      ],
      "execution_count": 34,
      "outputs": [
        {
          "output_type": "execute_result",
          "data": {
            "text/plain": [
              "(3211,)"
            ]
          },
          "metadata": {
            "tags": []
          },
          "execution_count": 34
        }
      ]
    },
    {
      "cell_type": "markdown",
      "metadata": {
        "id": "4dBwlaoYWw-g"
      },
      "source": [
        "## Model Architecture\r\n",
        "using Embedding, Bidirection LSTM, Dense, Dropout layers"
      ]
    },
    {
      "cell_type": "code",
      "metadata": {
        "id": "pbO_NMtZWNoo"
      },
      "source": [
        "model = Sequential()\r\n",
        "model.add(Embedding(total_words,128, input_length = max_sequence_len-1)) \r\n",
        "model.add(Bidirectional(LSTM(128, return_sequences=True)))\r\n",
        "model.add(Dropout(0.2))  # layer to randomly forget stuff to prevent overfitting\r\n",
        "model.add(LSTM(64))\r\n",
        "model.add(Dense(total_words/2, activation = 'relu', kernel_regularizer= regularizers.l2(0.01) ))\r\n",
        "model.add(Dense(total_words, activation = 'softmax'))\r\n",
        "\r\n",
        "model.compile(optimizer = 'adam', loss = 'categorical_crossentropy', metrics = ['accuracy'])"
      ],
      "execution_count": 35,
      "outputs": []
    },
    {
      "cell_type": "code",
      "metadata": {
        "colab": {
          "base_uri": "https://localhost:8080/"
        },
        "id": "R-EPhbXAW1lC",
        "outputId": "9af5a63e-3f5d-4de9-bef4-fe0c870d9ce3"
      },
      "source": [
        "print(model.summary())"
      ],
      "execution_count": 36,
      "outputs": [
        {
          "output_type": "stream",
          "text": [
            "Model: \"sequential\"\n",
            "_________________________________________________________________\n",
            "Layer (type)                 Output Shape              Param #   \n",
            "=================================================================\n",
            "embedding (Embedding)        (None, 10, 128)           411008    \n",
            "_________________________________________________________________\n",
            "bidirectional (Bidirectional (None, 10, 256)           263168    \n",
            "_________________________________________________________________\n",
            "dropout (Dropout)            (None, 10, 256)           0         \n",
            "_________________________________________________________________\n",
            "lstm_1 (LSTM)                (None, 64)                82176     \n",
            "_________________________________________________________________\n",
            "dense (Dense)                (None, 1605)              104325    \n",
            "_________________________________________________________________\n",
            "dense_1 (Dense)              (None, 3211)              5156866   \n",
            "=================================================================\n",
            "Total params: 6,017,543\n",
            "Trainable params: 6,017,543\n",
            "Non-trainable params: 0\n",
            "_________________________________________________________________\n",
            "None\n"
          ],
          "name": "stdout"
        }
      ]
    },
    {
      "cell_type": "markdown",
      "metadata": {
        "id": "KnxOQi38ZOP8"
      },
      "source": [
        "## Callbacks"
      ]
    },
    {
      "cell_type": "code",
      "metadata": {
        "id": "MyJI6hCvZNPH"
      },
      "source": [
        "early_stop = callbacks.EarlyStopping(monitor = 'loss', patience =3 , verbose = 1)"
      ],
      "execution_count": 37,
      "outputs": []
    },
    {
      "cell_type": "code",
      "metadata": {
        "colab": {
          "base_uri": "https://localhost:8080/"
        },
        "id": "APjaGLI2Y1FA",
        "outputId": "b98642bf-0ec1-402e-eb8f-b950c473a56c"
      },
      "source": [
        "epochs = 150\r\n",
        "history = model.fit(predictors, labels, epochs= epochs,callbacks = [early_stop])"
      ],
      "execution_count": 38,
      "outputs": [
        {
          "output_type": "stream",
          "text": [
            "Epoch 1/150\n",
            "551/551 [==============================] - 23s 24ms/step - loss: 7.2810 - accuracy: 0.0167\n",
            "Epoch 2/150\n",
            "551/551 [==============================] - 13s 24ms/step - loss: 6.5754 - accuracy: 0.0207\n",
            "Epoch 3/150\n",
            "551/551 [==============================] - 13s 24ms/step - loss: 6.4509 - accuracy: 0.0235\n",
            "Epoch 4/150\n",
            "551/551 [==============================] - 13s 24ms/step - loss: 6.2615 - accuracy: 0.0323\n",
            "Epoch 5/150\n",
            "551/551 [==============================] - 13s 24ms/step - loss: 6.0797 - accuracy: 0.0379\n",
            "Epoch 6/150\n",
            "551/551 [==============================] - 13s 24ms/step - loss: 5.9312 - accuracy: 0.0434\n",
            "Epoch 7/150\n",
            "551/551 [==============================] - 13s 24ms/step - loss: 5.7592 - accuracy: 0.0468\n",
            "Epoch 8/150\n",
            "551/551 [==============================] - 13s 24ms/step - loss: 5.6196 - accuracy: 0.0536\n",
            "Epoch 9/150\n",
            "551/551 [==============================] - 13s 24ms/step - loss: 5.4799 - accuracy: 0.0623\n",
            "Epoch 10/150\n",
            "551/551 [==============================] - 13s 24ms/step - loss: 5.3382 - accuracy: 0.0718\n",
            "Epoch 11/150\n",
            "551/551 [==============================] - 13s 24ms/step - loss: 5.2582 - accuracy: 0.0778\n",
            "Epoch 12/150\n",
            "551/551 [==============================] - 13s 24ms/step - loss: 5.1013 - accuracy: 0.0890\n",
            "Epoch 13/150\n",
            "551/551 [==============================] - 13s 24ms/step - loss: 4.9585 - accuracy: 0.1054\n",
            "Epoch 14/150\n",
            "551/551 [==============================] - 13s 24ms/step - loss: 4.8060 - accuracy: 0.1245\n",
            "Epoch 15/150\n",
            "551/551 [==============================] - 13s 24ms/step - loss: 4.6663 - accuracy: 0.1368\n",
            "Epoch 16/150\n",
            "551/551 [==============================] - 13s 24ms/step - loss: 4.5406 - accuracy: 0.1561\n",
            "Epoch 17/150\n",
            "551/551 [==============================] - 13s 24ms/step - loss: 4.4069 - accuracy: 0.1767\n",
            "Epoch 18/150\n",
            "551/551 [==============================] - 13s 24ms/step - loss: 4.2642 - accuracy: 0.1937\n",
            "Epoch 19/150\n",
            "551/551 [==============================] - 13s 24ms/step - loss: 4.1293 - accuracy: 0.2186\n",
            "Epoch 20/150\n",
            "551/551 [==============================] - 13s 24ms/step - loss: 4.0126 - accuracy: 0.2409\n",
            "Epoch 21/150\n",
            "551/551 [==============================] - 13s 24ms/step - loss: 3.8520 - accuracy: 0.2612\n",
            "Epoch 22/150\n",
            "551/551 [==============================] - 13s 24ms/step - loss: 3.7865 - accuracy: 0.2761\n",
            "Epoch 23/150\n",
            "551/551 [==============================] - 13s 24ms/step - loss: 3.6496 - accuracy: 0.3009\n",
            "Epoch 24/150\n",
            "551/551 [==============================] - 13s 24ms/step - loss: 3.4928 - accuracy: 0.3254\n",
            "Epoch 25/150\n",
            "551/551 [==============================] - 13s 24ms/step - loss: 3.4352 - accuracy: 0.3423\n",
            "Epoch 26/150\n",
            "551/551 [==============================] - 13s 24ms/step - loss: 3.3297 - accuracy: 0.3628\n",
            "Epoch 27/150\n",
            "551/551 [==============================] - 13s 24ms/step - loss: 3.2241 - accuracy: 0.3816\n",
            "Epoch 28/150\n",
            "551/551 [==============================] - 13s 24ms/step - loss: 3.1499 - accuracy: 0.4017\n",
            "Epoch 29/150\n",
            "551/551 [==============================] - 14s 25ms/step - loss: 3.0501 - accuracy: 0.4164\n",
            "Epoch 30/150\n",
            "551/551 [==============================] - 13s 24ms/step - loss: 2.9732 - accuracy: 0.4291\n",
            "Epoch 31/150\n",
            "551/551 [==============================] - 14s 25ms/step - loss: 2.9007 - accuracy: 0.4493\n",
            "Epoch 32/150\n",
            "551/551 [==============================] - 14s 25ms/step - loss: 2.8279 - accuracy: 0.4621\n",
            "Epoch 33/150\n",
            "551/551 [==============================] - 13s 24ms/step - loss: 2.7451 - accuracy: 0.4799\n",
            "Epoch 34/150\n",
            "551/551 [==============================] - 13s 24ms/step - loss: 2.6890 - accuracy: 0.4905\n",
            "Epoch 35/150\n",
            "551/551 [==============================] - 13s 24ms/step - loss: 2.6168 - accuracy: 0.5084\n",
            "Epoch 36/150\n",
            "551/551 [==============================] - 13s 24ms/step - loss: 2.5540 - accuracy: 0.5239\n",
            "Epoch 37/150\n",
            "551/551 [==============================] - 13s 24ms/step - loss: 2.5235 - accuracy: 0.5304\n",
            "Epoch 38/150\n",
            "551/551 [==============================] - 13s 24ms/step - loss: 2.4516 - accuracy: 0.5438\n",
            "Epoch 39/150\n",
            "551/551 [==============================] - 13s 24ms/step - loss: 2.3584 - accuracy: 0.5646\n",
            "Epoch 40/150\n",
            "551/551 [==============================] - 14s 25ms/step - loss: 2.3504 - accuracy: 0.5615\n",
            "Epoch 41/150\n",
            "551/551 [==============================] - 14s 25ms/step - loss: 2.2762 - accuracy: 0.5759\n",
            "Epoch 42/150\n",
            "551/551 [==============================] - 13s 24ms/step - loss: 2.2449 - accuracy: 0.5809\n",
            "Epoch 43/150\n",
            "551/551 [==============================] - 13s 24ms/step - loss: 2.1928 - accuracy: 0.5934\n",
            "Epoch 44/150\n",
            "551/551 [==============================] - 13s 24ms/step - loss: 2.1201 - accuracy: 0.6119\n",
            "Epoch 45/150\n",
            "551/551 [==============================] - 13s 24ms/step - loss: 2.0919 - accuracy: 0.6139\n",
            "Epoch 46/150\n",
            "551/551 [==============================] - 13s 24ms/step - loss: 2.0399 - accuracy: 0.6255\n",
            "Epoch 47/150\n",
            "551/551 [==============================] - 13s 24ms/step - loss: 2.0434 - accuracy: 0.6228\n",
            "Epoch 48/150\n",
            "551/551 [==============================] - 13s 24ms/step - loss: 1.9571 - accuracy: 0.6467\n",
            "Epoch 49/150\n",
            "551/551 [==============================] - 13s 24ms/step - loss: 1.9628 - accuracy: 0.6458\n",
            "Epoch 50/150\n",
            "551/551 [==============================] - 13s 24ms/step - loss: 1.9073 - accuracy: 0.6525\n",
            "Epoch 51/150\n",
            "551/551 [==============================] - 13s 24ms/step - loss: 1.8696 - accuracy: 0.6603\n",
            "Epoch 52/150\n",
            "551/551 [==============================] - 13s 24ms/step - loss: 1.8330 - accuracy: 0.6691\n",
            "Epoch 53/150\n",
            "551/551 [==============================] - 13s 24ms/step - loss: 1.7917 - accuracy: 0.6801\n",
            "Epoch 54/150\n",
            "551/551 [==============================] - 13s 24ms/step - loss: 1.7796 - accuracy: 0.6811\n",
            "Epoch 55/150\n",
            "551/551 [==============================] - 13s 24ms/step - loss: 1.7480 - accuracy: 0.6868\n",
            "Epoch 56/150\n",
            "551/551 [==============================] - 13s 24ms/step - loss: 1.7157 - accuracy: 0.6956\n",
            "Epoch 57/150\n",
            "551/551 [==============================] - 13s 24ms/step - loss: 1.6788 - accuracy: 0.7021\n",
            "Epoch 58/150\n",
            "551/551 [==============================] - 13s 24ms/step - loss: 1.6115 - accuracy: 0.7153\n",
            "Epoch 59/150\n",
            "551/551 [==============================] - 13s 24ms/step - loss: 1.6247 - accuracy: 0.7143\n",
            "Epoch 60/150\n",
            "551/551 [==============================] - 13s 24ms/step - loss: 1.6143 - accuracy: 0.7127\n",
            "Epoch 61/150\n",
            "551/551 [==============================] - 13s 24ms/step - loss: 1.5923 - accuracy: 0.7183\n",
            "Epoch 62/150\n",
            "551/551 [==============================] - 13s 24ms/step - loss: 1.5519 - accuracy: 0.7212\n",
            "Epoch 63/150\n",
            "551/551 [==============================] - 13s 24ms/step - loss: 1.5254 - accuracy: 0.7298\n",
            "Epoch 64/150\n",
            "551/551 [==============================] - 13s 24ms/step - loss: 1.4976 - accuracy: 0.7353\n",
            "Epoch 65/150\n",
            "551/551 [==============================] - 13s 24ms/step - loss: 1.4689 - accuracy: 0.7427\n",
            "Epoch 66/150\n",
            "551/551 [==============================] - 13s 24ms/step - loss: 1.4605 - accuracy: 0.7435\n",
            "Epoch 67/150\n",
            "551/551 [==============================] - 13s 24ms/step - loss: 1.4663 - accuracy: 0.7422\n",
            "Epoch 68/150\n",
            "551/551 [==============================] - 13s 24ms/step - loss: 1.4084 - accuracy: 0.7614\n",
            "Epoch 69/150\n",
            "551/551 [==============================] - 13s 24ms/step - loss: 1.3944 - accuracy: 0.7557\n",
            "Epoch 70/150\n",
            "551/551 [==============================] - 13s 24ms/step - loss: 1.3756 - accuracy: 0.7558\n",
            "Epoch 71/150\n",
            "551/551 [==============================] - 13s 24ms/step - loss: 1.3444 - accuracy: 0.7632\n",
            "Epoch 72/150\n",
            "551/551 [==============================] - 13s 24ms/step - loss: 1.3270 - accuracy: 0.7719\n",
            "Epoch 73/150\n",
            "551/551 [==============================] - 13s 24ms/step - loss: 1.3455 - accuracy: 0.7644\n",
            "Epoch 74/150\n",
            "551/551 [==============================] - 13s 24ms/step - loss: 1.3177 - accuracy: 0.7713\n",
            "Epoch 75/150\n",
            "551/551 [==============================] - 13s 24ms/step - loss: 1.2739 - accuracy: 0.7799\n",
            "Epoch 76/150\n",
            "551/551 [==============================] - 13s 24ms/step - loss: 1.2705 - accuracy: 0.7780\n",
            "Epoch 77/150\n",
            "551/551 [==============================] - 13s 24ms/step - loss: 1.2663 - accuracy: 0.7815\n",
            "Epoch 78/150\n",
            "551/551 [==============================] - 13s 24ms/step - loss: 1.2255 - accuracy: 0.7900\n",
            "Epoch 79/150\n",
            "551/551 [==============================] - 13s 24ms/step - loss: 1.2299 - accuracy: 0.7886\n",
            "Epoch 80/150\n",
            "551/551 [==============================] - 13s 24ms/step - loss: 1.2295 - accuracy: 0.7870\n",
            "Epoch 81/150\n",
            "551/551 [==============================] - 13s 24ms/step - loss: 1.2040 - accuracy: 0.7895\n",
            "Epoch 82/150\n",
            "551/551 [==============================] - 13s 24ms/step - loss: 1.2030 - accuracy: 0.7919\n",
            "Epoch 83/150\n",
            "551/551 [==============================] - 13s 24ms/step - loss: 1.1902 - accuracy: 0.7982\n",
            "Epoch 84/150\n",
            "551/551 [==============================] - 13s 24ms/step - loss: 1.1643 - accuracy: 0.7986\n",
            "Epoch 85/150\n",
            "551/551 [==============================] - 13s 24ms/step - loss: 1.1571 - accuracy: 0.8004\n",
            "Epoch 86/150\n",
            "551/551 [==============================] - 13s 24ms/step - loss: 1.1567 - accuracy: 0.8004\n",
            "Epoch 87/150\n",
            "551/551 [==============================] - 14s 25ms/step - loss: 1.1215 - accuracy: 0.8060\n",
            "Epoch 88/150\n",
            "551/551 [==============================] - 13s 24ms/step - loss: 1.1149 - accuracy: 0.8091\n",
            "Epoch 89/150\n",
            "551/551 [==============================] - 13s 24ms/step - loss: 1.1211 - accuracy: 0.8091\n",
            "Epoch 90/150\n",
            "551/551 [==============================] - 13s 24ms/step - loss: 1.1099 - accuracy: 0.8093\n",
            "Epoch 91/150\n",
            "551/551 [==============================] - 13s 24ms/step - loss: 1.0932 - accuracy: 0.8086\n",
            "Epoch 92/150\n",
            "551/551 [==============================] - 13s 24ms/step - loss: 1.0792 - accuracy: 0.8120\n",
            "Epoch 93/150\n",
            "551/551 [==============================] - 13s 24ms/step - loss: 1.0754 - accuracy: 0.8140\n",
            "Epoch 94/150\n",
            "551/551 [==============================] - 13s 24ms/step - loss: 1.0578 - accuracy: 0.8137\n",
            "Epoch 95/150\n",
            "551/551 [==============================] - 13s 24ms/step - loss: 1.0595 - accuracy: 0.8163\n",
            "Epoch 96/150\n",
            "551/551 [==============================] - 13s 24ms/step - loss: 1.0379 - accuracy: 0.8207\n",
            "Epoch 97/150\n",
            "551/551 [==============================] - 13s 24ms/step - loss: 1.0400 - accuracy: 0.8194\n",
            "Epoch 98/150\n",
            "551/551 [==============================] - 13s 24ms/step - loss: 1.0137 - accuracy: 0.8243\n",
            "Epoch 99/150\n",
            "551/551 [==============================] - 13s 24ms/step - loss: 1.0138 - accuracy: 0.8239\n",
            "Epoch 100/150\n",
            "551/551 [==============================] - 13s 24ms/step - loss: 0.9994 - accuracy: 0.8299\n",
            "Epoch 101/150\n",
            "551/551 [==============================] - 13s 23ms/step - loss: 0.9909 - accuracy: 0.8323\n",
            "Epoch 102/150\n",
            "551/551 [==============================] - 13s 23ms/step - loss: 0.9965 - accuracy: 0.8291\n",
            "Epoch 103/150\n",
            "551/551 [==============================] - 13s 23ms/step - loss: 0.9792 - accuracy: 0.8289\n",
            "Epoch 104/150\n",
            "551/551 [==============================] - 13s 23ms/step - loss: 0.9763 - accuracy: 0.8305\n",
            "Epoch 105/150\n",
            "551/551 [==============================] - 13s 23ms/step - loss: 0.9485 - accuracy: 0.8355\n",
            "Epoch 106/150\n",
            "551/551 [==============================] - 13s 23ms/step - loss: 0.9671 - accuracy: 0.8323\n",
            "Epoch 107/150\n",
            "551/551 [==============================] - 13s 23ms/step - loss: 0.9562 - accuracy: 0.8289\n",
            "Epoch 108/150\n",
            "551/551 [==============================] - 13s 23ms/step - loss: 0.9496 - accuracy: 0.8317\n",
            "Epoch 109/150\n",
            "551/551 [==============================] - 13s 23ms/step - loss: 0.9306 - accuracy: 0.8376\n",
            "Epoch 110/150\n",
            "551/551 [==============================] - 13s 23ms/step - loss: 0.9400 - accuracy: 0.8328\n",
            "Epoch 111/150\n",
            "551/551 [==============================] - 13s 23ms/step - loss: 0.9497 - accuracy: 0.8319\n",
            "Epoch 112/150\n",
            "551/551 [==============================] - 13s 23ms/step - loss: 0.9323 - accuracy: 0.8357\n",
            "Epoch 113/150\n",
            "551/551 [==============================] - 13s 23ms/step - loss: 0.9058 - accuracy: 0.8414\n",
            "Epoch 114/150\n",
            "551/551 [==============================] - 13s 23ms/step - loss: 0.9064 - accuracy: 0.8390\n",
            "Epoch 115/150\n",
            "551/551 [==============================] - 13s 23ms/step - loss: 0.9178 - accuracy: 0.8381\n",
            "Epoch 116/150\n",
            "551/551 [==============================] - 13s 23ms/step - loss: 0.9314 - accuracy: 0.8364\n",
            "Epoch 117/150\n",
            "551/551 [==============================] - 13s 23ms/step - loss: 0.9145 - accuracy: 0.8358\n",
            "Epoch 118/150\n",
            "551/551 [==============================] - 13s 23ms/step - loss: 0.8999 - accuracy: 0.8394\n",
            "Epoch 119/150\n",
            "551/551 [==============================] - 13s 23ms/step - loss: 0.8921 - accuracy: 0.8371\n",
            "Epoch 120/150\n",
            "551/551 [==============================] - 13s 23ms/step - loss: 0.8810 - accuracy: 0.8465\n",
            "Epoch 121/150\n",
            "551/551 [==============================] - 13s 23ms/step - loss: 0.8785 - accuracy: 0.8456\n",
            "Epoch 122/150\n",
            "551/551 [==============================] - 13s 23ms/step - loss: 0.8617 - accuracy: 0.8466\n",
            "Epoch 123/150\n",
            "551/551 [==============================] - 13s 23ms/step - loss: 0.8965 - accuracy: 0.8404\n",
            "Epoch 00123: early stopping\n"
          ],
          "name": "stdout"
        }
      ]
    },
    {
      "cell_type": "markdown",
      "metadata": {
        "id": "g8PwJsrBizGA"
      },
      "source": [
        "## Visualising results"
      ]
    },
    {
      "cell_type": "code",
      "metadata": {
        "colab": {
          "base_uri": "https://localhost:8080/",
          "height": 390
        },
        "id": "QYpdNSayaffV",
        "outputId": "9a05b99f-be32-48d0-87f7-dd509aea6c6d"
      },
      "source": [
        "import matplotlib.pyplot as plt \r\n",
        "acc= history.history['accuracy']\r\n",
        "loss = history.history['loss']\r\n",
        "\r\n",
        "epochs = range(len(acc))\r\n",
        "fig, (ax1,ax2) = plt.subplots(1,2, figsize=(12,6))\r\n",
        "ax1.plot(epochs, acc,'b', label='Training accuracy')\r\n",
        "ax1.set_title('Training accuracy')\r\n",
        "\r\n",
        "ax2.plot(epochs, loss,'b', label='Training loss')\r\n",
        "ax2.set_title('Training loss')\r\n",
        "\r\n",
        "plt.show();"
      ],
      "execution_count": 49,
      "outputs": [
        {
          "output_type": "display_data",
          "data": {
            "image/png": "[encoded data removed]",
            "text/plain": [
              "<Figure size 864x432 with 2 Axes>"
            ]
          },
          "metadata": {
            "tags": [],
            "needs_background": "light"
          }
        }
      ]
    },
    {
      "cell_type": "markdown",
      "metadata": {
        "id": "66Sy4qfOhIFZ"
      },
      "source": [
        "## Predicting next 30 words"
      ]
    },
    {
      "cell_type": "code",
      "metadata": {
        "colab": {
          "base_uri": "https://localhost:8080/"
        },
        "id": "qq5u3Y63k0X6",
        "outputId": "ef2090c4-93fa-4ae8-a5e7-2cbeba63c33f"
      },
      "source": [
        "seed_text = \"Help me Obi Wan Kenobi, you're truly wise\"\r\n",
        "next_words = 30\r\n",
        "  \r\n",
        "for _ in range(next_words):\r\n",
        "\ttoken_list = tokenizer.texts_to_sequences([seed_text])[0]\r\n",
        "\ttoken_list = pad_sequences([token_list], maxlen=max_sequence_len-1, padding='pre')\r\n",
        "\tpredicted = model.predict_classes(token_list, verbose=0)\r\n",
        "\toutput_word = \"\"\r\n",
        "\tfor word, index in tokenizer.word_index.items():\r\n",
        "\t\tif index == predicted:\r\n",
        "\t\t\toutput_word = word\r\n",
        "\t\t\tbreak\r\n",
        "\tseed_text += \" \" + output_word\r\n",
        "print(seed_text)"
      ],
      "execution_count": 63,
      "outputs": [
        {
          "output_type": "stream",
          "text": [
            "/usr/local/lib/python3.6/dist-packages/tensorflow/python/keras/engine/sequential.py:450: UserWarning: `model.predict_classes()` is deprecated and will be removed after 2021-01-01. Please use instead:* `np.argmax(model.predict(x), axis=-1)`,   if your model does multi-class classification   (e.g. if it uses a `softmax` last-layer activation).* `(model.predict(x) > 0.5).astype(\"int32\")`,   if your model does binary classification   (e.g. if it uses a `sigmoid` last-layer activation).\n",
            "  warnings.warn('`model.predict_classes()` is deprecated and '\n"
          ],
          "name": "stderr"
        },
        {
          "output_type": "stream",
          "text": [
            "Help me Obi Wan Kenobi, you're truly wise i am stol'n of many great muse wrong date steep torn date rage burn'd fall back quite seen seen rolling wrong store rolling burn each quite beard torn torn torn\n"
          ],
          "name": "stdout"
        }
      ]
    },
    {
      "cell_type": "markdown",
      "metadata": {
        "id": "LgZdIWzoHzrt"
      },
      "source": [
        "## Future Steps\r\n",
        "1. Improving model architecture to increase accuracy to ensure that predicted words make sense\r\n",
        "2. Character-based NLP model architecture\r\n",
        "3. "
      ]
    },
    {
      "cell_type": "code",
      "metadata": {
        "id": "gOyP4-FZILlk"
      },
      "source": [
        ""
      ],
      "execution_count": null,
      "outputs": []
    }
  ]
}